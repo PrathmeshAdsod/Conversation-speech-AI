{
 "cells": [
  {
   "cell_type": "code",
   "execution_count": 7,
   "metadata": {},
   "outputs": [
    {
     "name": "stdout",
     "output_type": "stream",
     "text": [
      "Collecting openai-whisper"
     ]
    },
    {
     "name": "stderr",
     "output_type": "stream",
     "text": [
      "WARNING: There was an error checking the latest version of pip.\n"
     ]
    },
    {
     "name": "stdout",
     "output_type": "stream",
     "text": [
      "\n",
      "  Downloading openai-whisper-20240930.tar.gz (800 kB)\n",
      "     -------------------------------------- 800.5/800.5 kB 2.4 MB/s eta 0:00:00\n",
      "  Installing build dependencies: started\n",
      "  Installing build dependencies: finished with status 'done'\n",
      "  Getting requirements to build wheel: started\n",
      "  Getting requirements to build wheel: finished with status 'done'\n",
      "  Preparing metadata (pyproject.toml): started\n",
      "  Preparing metadata (pyproject.toml): finished with status 'done'\n",
      "Requirement already satisfied: tqdm in c:\\users\\ovi\\appdata\\local\\programs\\python\\python39\\lib\\site-packages (from openai-whisper) (4.64.0)\n",
      "Collecting tiktoken\n",
      "  Downloading tiktoken-0.8.0-cp39-cp39-win_amd64.whl (884 kB)\n",
      "     -------------------------------------- 884.8/884.8 kB 2.1 MB/s eta 0:00:00\n",
      "Requirement already satisfied: numpy in c:\\users\\ovi\\appdata\\local\\programs\\python\\python39\\lib\\site-packages (from openai-whisper) (1.22.4)\n",
      "Collecting numba\n",
      "  Downloading numba-0.60.0-cp39-cp39-win_amd64.whl (2.7 MB)\n",
      "     ---------------------------------------- 2.7/2.7 MB 1.9 MB/s eta 0:00:00\n",
      "Collecting more-itertools\n",
      "  Downloading more_itertools-10.5.0-py3-none-any.whl (60 kB)\n",
      "     -------------------------------------- 61.0/61.0 kB 405.7 kB/s eta 0:00:00\n",
      "Requirement already satisfied: torch in c:\\users\\ovi\\appdata\\local\\programs\\python\\python39\\lib\\site-packages (from openai-whisper) (2.0.1)\n",
      "Collecting llvmlite<0.44,>=0.43.0dev0\n",
      "  Downloading llvmlite-0.43.0-cp39-cp39-win_amd64.whl (28.1 MB)\n",
      "     ---------------------------------------- 28.1/28.1 MB 1.2 MB/s eta 0:00:00\n",
      "Requirement already satisfied: requests>=2.26.0 in c:\\users\\ovi\\appdata\\local\\programs\\python\\python39\\lib\\site-packages (from tiktoken->openai-whisper) (2.31.0)\n",
      "Requirement already satisfied: regex>=2022.1.18 in c:\\users\\ovi\\appdata\\local\\programs\\python\\python39\\lib\\site-packages (from tiktoken->openai-whisper) (2022.4.24)\n",
      "Requirement already satisfied: typing-extensions in c:\\users\\ovi\\appdata\\local\\programs\\python\\python39\\lib\\site-packages (from torch->openai-whisper) (4.5.0)\n",
      "Requirement already satisfied: jinja2 in c:\\users\\ovi\\appdata\\local\\programs\\python\\python39\\lib\\site-packages (from torch->openai-whisper) (3.1.2)\n",
      "Requirement already satisfied: filelock in c:\\users\\ovi\\appdata\\local\\programs\\python\\python39\\lib\\site-packages (from torch->openai-whisper) (3.10.7)\n",
      "Requirement already satisfied: sympy in c:\\users\\ovi\\appdata\\local\\programs\\python\\python39\\lib\\site-packages (from torch->openai-whisper) (1.12)\n",
      "Requirement already satisfied: networkx in c:\\users\\ovi\\appdata\\local\\programs\\python\\python39\\lib\\site-packages (from torch->openai-whisper) (3.1)\n",
      "Requirement already satisfied: colorama in c:\\users\\ovi\\appdata\\local\\programs\\python\\python39\\lib\\site-packages (from tqdm->openai-whisper) (0.4.4)\n",
      "Requirement already satisfied: charset-normalizer<4,>=2 in c:\\users\\ovi\\appdata\\local\\programs\\python\\python39\\lib\\site-packages (from requests>=2.26.0->tiktoken->openai-whisper) (2.0.7)\n",
      "Requirement already satisfied: urllib3<3,>=1.21.1 in c:\\users\\ovi\\appdata\\local\\programs\\python\\python39\\lib\\site-packages (from requests>=2.26.0->tiktoken->openai-whisper) (1.26.7)\n",
      "Requirement already satisfied: certifi>=2017.4.17 in c:\\users\\ovi\\appdata\\local\\programs\\python\\python39\\lib\\site-packages (from requests>=2.26.0->tiktoken->openai-whisper) (2021.10.8)\n",
      "Requirement already satisfied: idna<4,>=2.5 in c:\\users\\ovi\\appdata\\local\\programs\\python\\python39\\lib\\site-packages (from requests>=2.26.0->tiktoken->openai-whisper) (3.3)\n",
      "Requirement already satisfied: MarkupSafe>=2.0 in c:\\users\\ovi\\appdata\\local\\programs\\python\\python39\\lib\\site-packages (from jinja2->torch->openai-whisper) (2.1.2)\n",
      "Requirement already satisfied: mpmath>=0.19 in c:\\users\\ovi\\appdata\\local\\programs\\python\\python39\\lib\\site-packages (from sympy->torch->openai-whisper) (1.3.0)\n",
      "Building wheels for collected packages: openai-whisper\n",
      "  Building wheel for openai-whisper (pyproject.toml): started\n",
      "  Building wheel for openai-whisper (pyproject.toml): finished with status 'done'\n",
      "  Created wheel for openai-whisper: filename=openai_whisper-20240930-py3-none-any.whl size=803358 sha256=ba85d73746c7c16704e1e1323874dba9f39ff2394a6ad72a6d24f7ea0190fc07\n",
      "  Stored in directory: c:\\users\\ovi\\appdata\\local\\pip\\cache\\wheels\\94\\29\\f3\\3dd4d7f88df5d701acd3206732dcb6265379c5ece94b472c17\n",
      "Successfully built openai-whisper\n",
      "Installing collected packages: more-itertools, llvmlite, tiktoken, numba, openai-whisper\n",
      "Successfully installed llvmlite-0.43.0 more-itertools-10.5.0 numba-0.60.0 openai-whisper-20240930 tiktoken-0.8.0\n"
     ]
    }
   ],
   "source": [
    "! pip install -U openai-whisper\n"
   ]
  },
  {
   "cell_type": "code",
   "execution_count": 8,
   "metadata": {},
   "outputs": [],
   "source": [
    "import whisper"
   ]
  },
  {
   "cell_type": "code",
   "execution_count": 9,
   "metadata": {},
   "outputs": [
    {
     "name": "stderr",
     "output_type": "stream",
     "text": [
      "100%|█████████████████████████████████████| 1.42G/1.42G [05:22<00:00, 4.73MiB/s]\n"
     ]
    }
   ],
   "source": [
    "whisper_model = whisper.load_model(\"medium\")"
   ]
  },
  {
   "cell_type": "code",
   "execution_count": null,
   "metadata": {},
   "outputs": [],
   "source": []
  }
 ],
 "metadata": {
  "kernelspec": {
   "display_name": "Python 3",
   "language": "python",
   "name": "python3"
  },
  "language_info": {
   "codemirror_mode": {
    "name": "ipython",
    "version": 3
   },
   "file_extension": ".py",
   "mimetype": "text/x-python",
   "name": "python",
   "nbconvert_exporter": "python",
   "pygments_lexer": "ipython3",
   "version": "3.9.1"
  }
 },
 "nbformat": 4,
 "nbformat_minor": 2
}
